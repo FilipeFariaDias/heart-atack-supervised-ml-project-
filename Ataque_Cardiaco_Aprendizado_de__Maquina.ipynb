{
  "nbformat": 4,
  "nbformat_minor": 0,
  "metadata": {
    "colab": {
      "provenance": [],
      "include_colab_link": true
    },
    "kernelspec": {
      "name": "python3",
      "display_name": "Python 3"
    },
    "language_info": {
      "name": "python"
    }
  },
  "cells": [
    {
      "cell_type": "markdown",
      "metadata": {
        "id": "view-in-github",
        "colab_type": "text"
      },
      "source": [
        "<a href=\"https://colab.research.google.com/github/FilipeFariaDias/heart-atack-supervised-ml-project-/blob/main/Ataque_Cardiaco_Aprendizado_de__Maquina.ipynb\" target=\"_parent\"><img src=\"https://colab.research.google.com/assets/colab-badge.svg\" alt=\"Open In Colab\"/></a>"
      ]
    },
    {
      "cell_type": "markdown",
      "source": [
        "# Predição de ataque cardíaco\n",
        "\n",
        "Dado o dataset fornecido, devemos ser capaz de criar diversos modeloes e avaliar a capacidade de predição de cada um deles para esse problema."
      ],
      "metadata": {
        "id": "4x79bZhYWnOh"
      }
    },
    {
      "cell_type": "markdown",
      "source": [
        "### Instalando pacotes e importando bibliotecas"
      ],
      "metadata": {
        "id": "kuxtY7wXXF0O"
      }
    },
    {
      "cell_type": "code",
      "execution_count": null,
      "metadata": {
        "id": "5oERFzu5qpec",
        "outputId": "56f5e161-5aeb-4186-e06d-bf9879f739aa",
        "colab": {
          "base_uri": "https://localhost:8080/"
        }
      },
      "outputs": [
        {
          "output_type": "stream",
          "name": "stdout",
          "text": [
            "Looking in indexes: https://pypi.org/simple, https://us-python.pkg.dev/colab-wheels/public/simple/\n",
            "Requirement already satisfied: mlxtend in /usr/local/lib/python3.8/dist-packages (0.14.0)\n",
            "Requirement already satisfied: scikit-learn>=0.18 in /usr/local/lib/python3.8/dist-packages (from mlxtend) (1.2.1)\n",
            "Requirement already satisfied: numpy>=1.10.4 in /usr/local/lib/python3.8/dist-packages (from mlxtend) (1.22.4)\n",
            "Requirement already satisfied: pandas>=0.17.1 in /usr/local/lib/python3.8/dist-packages (from mlxtend) (1.3.5)\n",
            "Requirement already satisfied: scipy>=0.17 in /usr/local/lib/python3.8/dist-packages (from mlxtend) (1.10.1)\n",
            "Requirement already satisfied: setuptools in /usr/local/lib/python3.8/dist-packages (from mlxtend) (57.4.0)\n",
            "Requirement already satisfied: matplotlib>=1.5.1 in /usr/local/lib/python3.8/dist-packages (from mlxtend) (3.5.3)\n",
            "Requirement already satisfied: packaging>=20.0 in /usr/local/lib/python3.8/dist-packages (from matplotlib>=1.5.1->mlxtend) (23.0)\n",
            "Requirement already satisfied: python-dateutil>=2.7 in /usr/local/lib/python3.8/dist-packages (from matplotlib>=1.5.1->mlxtend) (2.8.2)\n",
            "Requirement already satisfied: fonttools>=4.22.0 in /usr/local/lib/python3.8/dist-packages (from matplotlib>=1.5.1->mlxtend) (4.38.0)\n",
            "Requirement already satisfied: cycler>=0.10 in /usr/local/lib/python3.8/dist-packages (from matplotlib>=1.5.1->mlxtend) (0.11.0)\n",
            "Requirement already satisfied: pyparsing>=2.2.1 in /usr/local/lib/python3.8/dist-packages (from matplotlib>=1.5.1->mlxtend) (3.0.9)\n",
            "Requirement already satisfied: pillow>=6.2.0 in /usr/local/lib/python3.8/dist-packages (from matplotlib>=1.5.1->mlxtend) (8.4.0)\n",
            "Requirement already satisfied: kiwisolver>=1.0.1 in /usr/local/lib/python3.8/dist-packages (from matplotlib>=1.5.1->mlxtend) (1.4.4)\n",
            "Requirement already satisfied: pytz>=2017.3 in /usr/local/lib/python3.8/dist-packages (from pandas>=0.17.1->mlxtend) (2022.7.1)\n",
            "Requirement already satisfied: threadpoolctl>=2.0.0 in /usr/local/lib/python3.8/dist-packages (from scikit-learn>=0.18->mlxtend) (3.1.0)\n",
            "Requirement already satisfied: joblib>=1.1.1 in /usr/local/lib/python3.8/dist-packages (from scikit-learn>=0.18->mlxtend) (1.2.0)\n",
            "Requirement already satisfied: six>=1.5 in /usr/local/lib/python3.8/dist-packages (from python-dateutil>=2.7->matplotlib>=1.5.1->mlxtend) (1.15.0)\n"
          ]
        }
      ],
      "source": [
        "!pip install mlxtend"
      ]
    },
    {
      "cell_type": "code",
      "source": [
        "import pandas as pd\n",
        "import matplotlib.pyplot as plt\n",
        "import numpy as np\n",
        "\n",
        "from sklearn.neighbors import KNeighborsClassifier\n",
        "from sklearn.tree import DecisionTreeClassifier\n",
        "from sklearn.ensemble import AdaBoostClassifier\n",
        "from sklearn.ensemble import RandomForestClassifier\n",
        "from sklearn.linear_model import LogisticRegression\n",
        "from sklearn.neural_network import MLPClassifier"
      ],
      "metadata": {
        "id": "601xwW2V5Jrm"
      },
      "execution_count": null,
      "outputs": []
    },
    {
      "cell_type": "markdown",
      "source": [
        "### Montando o Google Drive para poder usar o dataset sem fazer updload"
      ],
      "metadata": {
        "id": "3-vR76jXXsie"
      }
    },
    {
      "cell_type": "code",
      "source": [
        "from google.colab import drive\n",
        "drive.mount('/content/drive') #montando o google drive para não precisar ficar colocando os dados toda hora"
      ],
      "metadata": {
        "colab": {
          "base_uri": "https://localhost:8080/"
        },
        "id": "mSTBJHmKhuwJ",
        "outputId": "ce7015f4-48f5-477b-e78a-8b544043f4f0"
      },
      "execution_count": null,
      "outputs": [
        {
          "output_type": "stream",
          "name": "stdout",
          "text": [
            "Drive already mounted at /content/drive; to attempt to forcibly remount, call drive.mount(\"/content/drive\", force_remount=True).\n"
          ]
        }
      ]
    },
    {
      "cell_type": "code",
      "source": [
        "df = pd.read_csv(\"/content/drive/My Drive/data/heart.csv\") #carregando o dataset"
      ],
      "metadata": {
        "id": "WZSsnsTC6ifk"
      },
      "execution_count": null,
      "outputs": []
    },
    {
      "cell_type": "code",
      "source": [
        "df"
      ],
      "metadata": {
        "id": "bvy_g89QGPUr",
        "outputId": "a959e0f2-5ffc-4dfe-fa6e-0eb8ed7f1a17",
        "colab": {
          "base_uri": "https://localhost:8080/",
          "height": 423
        }
      },
      "execution_count": null,
      "outputs": [
        {
          "output_type": "execute_result",
          "data": {
            "text/plain": [
              "     age  sex  cp  trtbps  chol  fbs  restecg  thalachh  exng  oldpeak  slp  \\\n",
              "0     63    1   3     145   233    1        0       150     0      2.3    0   \n",
              "1     37    1   2     130   250    0        1       187     0      3.5    0   \n",
              "2     41    0   1     130   204    0        0       172     0      1.4    2   \n",
              "3     56    1   1     120   236    0        1       178     0      0.8    2   \n",
              "4     57    0   0     120   354    0        1       163     1      0.6    2   \n",
              "..   ...  ...  ..     ...   ...  ...      ...       ...   ...      ...  ...   \n",
              "298   57    0   0     140   241    0        1       123     1      0.2    1   \n",
              "299   45    1   3     110   264    0        1       132     0      1.2    1   \n",
              "300   68    1   0     144   193    1        1       141     0      3.4    1   \n",
              "301   57    1   0     130   131    0        1       115     1      1.2    1   \n",
              "302   57    0   1     130   236    0        0       174     0      0.0    1   \n",
              "\n",
              "     caa  thall  output  \n",
              "0      0      1       1  \n",
              "1      0      2       1  \n",
              "2      0      2       1  \n",
              "3      0      2       1  \n",
              "4      0      2       1  \n",
              "..   ...    ...     ...  \n",
              "298    0      3       0  \n",
              "299    0      3       0  \n",
              "300    2      3       0  \n",
              "301    1      3       0  \n",
              "302    1      2       0  \n",
              "\n",
              "[303 rows x 14 columns]"
            ],
            "text/html": [
              "\n",
              "  <div id=\"df-c4ab832a-1300-4afd-ac5e-804756bf7a89\">\n",
              "    <div class=\"colab-df-container\">\n",
              "      <div>\n",
              "<style scoped>\n",
              "    .dataframe tbody tr th:only-of-type {\n",
              "        vertical-align: middle;\n",
              "    }\n",
              "\n",
              "    .dataframe tbody tr th {\n",
              "        vertical-align: top;\n",
              "    }\n",
              "\n",
              "    .dataframe thead th {\n",
              "        text-align: right;\n",
              "    }\n",
              "</style>\n",
              "<table border=\"1\" class=\"dataframe\">\n",
              "  <thead>\n",
              "    <tr style=\"text-align: right;\">\n",
              "      <th></th>\n",
              "      <th>age</th>\n",
              "      <th>sex</th>\n",
              "      <th>cp</th>\n",
              "      <th>trtbps</th>\n",
              "      <th>chol</th>\n",
              "      <th>fbs</th>\n",
              "      <th>restecg</th>\n",
              "      <th>thalachh</th>\n",
              "      <th>exng</th>\n",
              "      <th>oldpeak</th>\n",
              "      <th>slp</th>\n",
              "      <th>caa</th>\n",
              "      <th>thall</th>\n",
              "      <th>output</th>\n",
              "    </tr>\n",
              "  </thead>\n",
              "  <tbody>\n",
              "    <tr>\n",
              "      <th>0</th>\n",
              "      <td>63</td>\n",
              "      <td>1</td>\n",
              "      <td>3</td>\n",
              "      <td>145</td>\n",
              "      <td>233</td>\n",
              "      <td>1</td>\n",
              "      <td>0</td>\n",
              "      <td>150</td>\n",
              "      <td>0</td>\n",
              "      <td>2.3</td>\n",
              "      <td>0</td>\n",
              "      <td>0</td>\n",
              "      <td>1</td>\n",
              "      <td>1</td>\n",
              "    </tr>\n",
              "    <tr>\n",
              "      <th>1</th>\n",
              "      <td>37</td>\n",
              "      <td>1</td>\n",
              "      <td>2</td>\n",
              "      <td>130</td>\n",
              "      <td>250</td>\n",
              "      <td>0</td>\n",
              "      <td>1</td>\n",
              "      <td>187</td>\n",
              "      <td>0</td>\n",
              "      <td>3.5</td>\n",
              "      <td>0</td>\n",
              "      <td>0</td>\n",
              "      <td>2</td>\n",
              "      <td>1</td>\n",
              "    </tr>\n",
              "    <tr>\n",
              "      <th>2</th>\n",
              "      <td>41</td>\n",
              "      <td>0</td>\n",
              "      <td>1</td>\n",
              "      <td>130</td>\n",
              "      <td>204</td>\n",
              "      <td>0</td>\n",
              "      <td>0</td>\n",
              "      <td>172</td>\n",
              "      <td>0</td>\n",
              "      <td>1.4</td>\n",
              "      <td>2</td>\n",
              "      <td>0</td>\n",
              "      <td>2</td>\n",
              "      <td>1</td>\n",
              "    </tr>\n",
              "    <tr>\n",
              "      <th>3</th>\n",
              "      <td>56</td>\n",
              "      <td>1</td>\n",
              "      <td>1</td>\n",
              "      <td>120</td>\n",
              "      <td>236</td>\n",
              "      <td>0</td>\n",
              "      <td>1</td>\n",
              "      <td>178</td>\n",
              "      <td>0</td>\n",
              "      <td>0.8</td>\n",
              "      <td>2</td>\n",
              "      <td>0</td>\n",
              "      <td>2</td>\n",
              "      <td>1</td>\n",
              "    </tr>\n",
              "    <tr>\n",
              "      <th>4</th>\n",
              "      <td>57</td>\n",
              "      <td>0</td>\n",
              "      <td>0</td>\n",
              "      <td>120</td>\n",
              "      <td>354</td>\n",
              "      <td>0</td>\n",
              "      <td>1</td>\n",
              "      <td>163</td>\n",
              "      <td>1</td>\n",
              "      <td>0.6</td>\n",
              "      <td>2</td>\n",
              "      <td>0</td>\n",
              "      <td>2</td>\n",
              "      <td>1</td>\n",
              "    </tr>\n",
              "    <tr>\n",
              "      <th>...</th>\n",
              "      <td>...</td>\n",
              "      <td>...</td>\n",
              "      <td>...</td>\n",
              "      <td>...</td>\n",
              "      <td>...</td>\n",
              "      <td>...</td>\n",
              "      <td>...</td>\n",
              "      <td>...</td>\n",
              "      <td>...</td>\n",
              "      <td>...</td>\n",
              "      <td>...</td>\n",
              "      <td>...</td>\n",
              "      <td>...</td>\n",
              "      <td>...</td>\n",
              "    </tr>\n",
              "    <tr>\n",
              "      <th>298</th>\n",
              "      <td>57</td>\n",
              "      <td>0</td>\n",
              "      <td>0</td>\n",
              "      <td>140</td>\n",
              "      <td>241</td>\n",
              "      <td>0</td>\n",
              "      <td>1</td>\n",
              "      <td>123</td>\n",
              "      <td>1</td>\n",
              "      <td>0.2</td>\n",
              "      <td>1</td>\n",
              "      <td>0</td>\n",
              "      <td>3</td>\n",
              "      <td>0</td>\n",
              "    </tr>\n",
              "    <tr>\n",
              "      <th>299</th>\n",
              "      <td>45</td>\n",
              "      <td>1</td>\n",
              "      <td>3</td>\n",
              "      <td>110</td>\n",
              "      <td>264</td>\n",
              "      <td>0</td>\n",
              "      <td>1</td>\n",
              "      <td>132</td>\n",
              "      <td>0</td>\n",
              "      <td>1.2</td>\n",
              "      <td>1</td>\n",
              "      <td>0</td>\n",
              "      <td>3</td>\n",
              "      <td>0</td>\n",
              "    </tr>\n",
              "    <tr>\n",
              "      <th>300</th>\n",
              "      <td>68</td>\n",
              "      <td>1</td>\n",
              "      <td>0</td>\n",
              "      <td>144</td>\n",
              "      <td>193</td>\n",
              "      <td>1</td>\n",
              "      <td>1</td>\n",
              "      <td>141</td>\n",
              "      <td>0</td>\n",
              "      <td>3.4</td>\n",
              "      <td>1</td>\n",
              "      <td>2</td>\n",
              "      <td>3</td>\n",
              "      <td>0</td>\n",
              "    </tr>\n",
              "    <tr>\n",
              "      <th>301</th>\n",
              "      <td>57</td>\n",
              "      <td>1</td>\n",
              "      <td>0</td>\n",
              "      <td>130</td>\n",
              "      <td>131</td>\n",
              "      <td>0</td>\n",
              "      <td>1</td>\n",
              "      <td>115</td>\n",
              "      <td>1</td>\n",
              "      <td>1.2</td>\n",
              "      <td>1</td>\n",
              "      <td>1</td>\n",
              "      <td>3</td>\n",
              "      <td>0</td>\n",
              "    </tr>\n",
              "    <tr>\n",
              "      <th>302</th>\n",
              "      <td>57</td>\n",
              "      <td>0</td>\n",
              "      <td>1</td>\n",
              "      <td>130</td>\n",
              "      <td>236</td>\n",
              "      <td>0</td>\n",
              "      <td>0</td>\n",
              "      <td>174</td>\n",
              "      <td>0</td>\n",
              "      <td>0.0</td>\n",
              "      <td>1</td>\n",
              "      <td>1</td>\n",
              "      <td>2</td>\n",
              "      <td>0</td>\n",
              "    </tr>\n",
              "  </tbody>\n",
              "</table>\n",
              "<p>303 rows × 14 columns</p>\n",
              "</div>\n",
              "      <button class=\"colab-df-convert\" onclick=\"convertToInteractive('df-c4ab832a-1300-4afd-ac5e-804756bf7a89')\"\n",
              "              title=\"Convert this dataframe to an interactive table.\"\n",
              "              style=\"display:none;\">\n",
              "        \n",
              "  <svg xmlns=\"http://www.w3.org/2000/svg\" height=\"24px\"viewBox=\"0 0 24 24\"\n",
              "       width=\"24px\">\n",
              "    <path d=\"M0 0h24v24H0V0z\" fill=\"none\"/>\n",
              "    <path d=\"M18.56 5.44l.94 2.06.94-2.06 2.06-.94-2.06-.94-.94-2.06-.94 2.06-2.06.94zm-11 1L8.5 8.5l.94-2.06 2.06-.94-2.06-.94L8.5 2.5l-.94 2.06-2.06.94zm10 10l.94 2.06.94-2.06 2.06-.94-2.06-.94-.94-2.06-.94 2.06-2.06.94z\"/><path d=\"M17.41 7.96l-1.37-1.37c-.4-.4-.92-.59-1.43-.59-.52 0-1.04.2-1.43.59L10.3 9.45l-7.72 7.72c-.78.78-.78 2.05 0 2.83L4 21.41c.39.39.9.59 1.41.59.51 0 1.02-.2 1.41-.59l7.78-7.78 2.81-2.81c.8-.78.8-2.07 0-2.86zM5.41 20L4 18.59l7.72-7.72 1.47 1.35L5.41 20z\"/>\n",
              "  </svg>\n",
              "      </button>\n",
              "      \n",
              "  <style>\n",
              "    .colab-df-container {\n",
              "      display:flex;\n",
              "      flex-wrap:wrap;\n",
              "      gap: 12px;\n",
              "    }\n",
              "\n",
              "    .colab-df-convert {\n",
              "      background-color: #E8F0FE;\n",
              "      border: none;\n",
              "      border-radius: 50%;\n",
              "      cursor: pointer;\n",
              "      display: none;\n",
              "      fill: #1967D2;\n",
              "      height: 32px;\n",
              "      padding: 0 0 0 0;\n",
              "      width: 32px;\n",
              "    }\n",
              "\n",
              "    .colab-df-convert:hover {\n",
              "      background-color: #E2EBFA;\n",
              "      box-shadow: 0px 1px 2px rgba(60, 64, 67, 0.3), 0px 1px 3px 1px rgba(60, 64, 67, 0.15);\n",
              "      fill: #174EA6;\n",
              "    }\n",
              "\n",
              "    [theme=dark] .colab-df-convert {\n",
              "      background-color: #3B4455;\n",
              "      fill: #D2E3FC;\n",
              "    }\n",
              "\n",
              "    [theme=dark] .colab-df-convert:hover {\n",
              "      background-color: #434B5C;\n",
              "      box-shadow: 0px 1px 3px 1px rgba(0, 0, 0, 0.15);\n",
              "      filter: drop-shadow(0px 1px 2px rgba(0, 0, 0, 0.3));\n",
              "      fill: #FFFFFF;\n",
              "    }\n",
              "  </style>\n",
              "\n",
              "      <script>\n",
              "        const buttonEl =\n",
              "          document.querySelector('#df-c4ab832a-1300-4afd-ac5e-804756bf7a89 button.colab-df-convert');\n",
              "        buttonEl.style.display =\n",
              "          google.colab.kernel.accessAllowed ? 'block' : 'none';\n",
              "\n",
              "        async function convertToInteractive(key) {\n",
              "          const element = document.querySelector('#df-c4ab832a-1300-4afd-ac5e-804756bf7a89');\n",
              "          const dataTable =\n",
              "            await google.colab.kernel.invokeFunction('convertToInteractive',\n",
              "                                                     [key], {});\n",
              "          if (!dataTable) return;\n",
              "\n",
              "          const docLinkHtml = 'Like what you see? Visit the ' +\n",
              "            '<a target=\"_blank\" href=https://colab.research.google.com/notebooks/data_table.ipynb>data table notebook</a>'\n",
              "            + ' to learn more about interactive tables.';\n",
              "          element.innerHTML = '';\n",
              "          dataTable['output_type'] = 'display_data';\n",
              "          await google.colab.output.renderOutput(dataTable, element);\n",
              "          const docLink = document.createElement('div');\n",
              "          docLink.innerHTML = docLinkHtml;\n",
              "          element.appendChild(docLink);\n",
              "        }\n",
              "      </script>\n",
              "    </div>\n",
              "  </div>\n",
              "  "
            ]
          },
          "metadata": {},
          "execution_count": 221
        }
      ]
    },
    {
      "cell_type": "markdown",
      "source": [
        "### Explorando o dataset"
      ],
      "metadata": {
        "id": "0xd6nb-iaIFN"
      }
    },
    {
      "cell_type": "markdown",
      "source": [
        "Descrição do conjunto de dados\n",
        "\n",
        "\n",
        "*   age: Idade do paciente\n",
        "\n",
        "*   sex: Sexo do paciente\n",
        "\n",
        "  *   0: feminino\n",
        "\n",
        "  *   1: masculino\n",
        "\n",
        "*   cp: tipo de dor no peito\n",
        "\n",
        "  *   1: angina típica\n",
        "\n",
        "  *   2: angina atípica\n",
        "\n",
        "  *   3: dor não anginosa\n",
        "\n",
        "  *   4: assintomática\n",
        "\n",
        "*   trtbps - pressão arterial em repouso (em mm de Hg na admissão no hospital)\n",
        "\n",
        "*   chol: colesterol em mg/dL (miligramas de glicose por decilitro de sangue)  obtida apartir de um sensor de IMC\n",
        "\n",
        "*   fbs: se o açucar no sangue em repouso é maior do que 120mg/dL (0 - falso, 1 - verdadeiro)\n",
        "\n",
        "  *   0: falso\n",
        "\n",
        "  *   1: verdadeiro\n",
        "\n",
        "*   _restecg: resultados eletrocardiograficos em repouso\n",
        "  \n",
        "  *   0: normal\n",
        "\n",
        "  *   1: anormalidade da onda ST-T\n",
        "\n",
        "  *   2: hipertrofia\n",
        "\n",
        "*   thalach: máxima frequência cardíaca alcançada\n",
        "\n",
        "*   exang: Angina induzida por exercicio\n",
        "\n",
        "  *   0: não\n",
        "\n",
        "  *   1: sim\n",
        "\n",
        "*   oldpeak: depressão de ST induzida por exercício em relação ao repouso\n",
        "\n",
        "*   slope: a inclinação do pico do exercício de segmento ST\n",
        "\n",
        "  *   0: descendente\n",
        "\n",
        "  *   1: plano\n",
        "\n",
        "  *   2: crescente\n",
        "\n",
        "*   ca: numero de vasos principais coloridos por fluoroscopia (0 até 3)\n",
        "\n",
        "*   thal: doença sanguínea chamada talassemia 2 = normal; 1 = fixed defect; 3 = reversable defect\n",
        "\n",
        "  *   1: defeito corrigido\n",
        "\n",
        "  *   2: defeito reversível\n",
        "\n",
        "  *   3: normal\n",
        "\n",
        "* target: diagnóstico de doença cardíaca:\n",
        "\n",
        "  *   0: menos chance de um ataque cardíaco\n",
        "  *   1: mais chance de um ataque cardíaco"
      ],
      "metadata": {
        "id": "ANAHQ0O_1fIY"
      }
    },
    {
      "cell_type": "markdown",
      "source": [
        "Verificando a distribuição da classe predita no dataset"
      ],
      "metadata": {
        "id": "SZOfF3Wv7ngW"
      }
    },
    {
      "cell_type": "code",
      "source": [
        "output_zero = df['output'].value_counts()[0]\n",
        "output_one = df['output'].value_counts()[1]\n",
        "\n",
        "plt.hist(df['output'])\n",
        "plt.title(\"Distribuição do atributo alvo\")\n",
        "plt.show()\n",
        "\n",
        "print(f\"Instancias com saída 0: {output_zero} ({100 * output_zero / (output_zero + output_one):.2f}%)\")\n",
        "print(f\"Instancias com saída 1: {output_one} ({100 * output_one / (output_zero + output_one):.2f}%)\")"
      ],
      "metadata": {
        "colab": {
          "base_uri": "https://localhost:8080/",
          "height": 316
        },
        "id": "MZd8kNsKQ38M",
        "outputId": "05696d21-8859-446d-8668-2b2a4696646a"
      },
      "execution_count": null,
      "outputs": [
        {
          "output_type": "display_data",
          "data": {
            "text/plain": [
              "<Figure size 432x288 with 1 Axes>"
            ],
            "image/png": "[encoded data removed]"
          },
          "metadata": {
            "needs_background": "light"
          }
        },
        {
          "output_type": "stream",
          "name": "stdout",
          "text": [
            "Instancias com saída 0: 138 (45.54%)\n",
            "Instancias com saída 1: 165 (54.46%)\n"
          ]
        }
      ]
    },
    {
      "cell_type": "markdown",
      "source": [
        "Os dados não possuem um desbalanceamento tão grande, agora vamos verificar como é composto o nosso dataset, ou seja o que temos em cada coluna. Agora vamos verificar a quantidade de colunas que o nosso dataset possui"
      ],
      "metadata": {
        "id": "QT9sZ0mLvvm7"
      }
    },
    {
      "cell_type": "code",
      "source": [
        "df.info()"
      ],
      "metadata": {
        "id": "onUys3p-H1me",
        "colab": {
          "base_uri": "https://localhost:8080/"
        },
        "outputId": "b38aeae2-078d-46cb-df4d-df11d742e0d9"
      },
      "execution_count": null,
      "outputs": [
        {
          "output_type": "stream",
          "name": "stdout",
          "text": [
            "<class 'pandas.core.frame.DataFrame'>\n",
            "RangeIndex: 303 entries, 0 to 302\n",
            "Data columns (total 14 columns):\n",
            " #   Column    Non-Null Count  Dtype  \n",
            "---  ------    --------------  -----  \n",
            " 0   age       303 non-null    int64  \n",
            " 1   sex       303 non-null    int64  \n",
            " 2   cp        303 non-null    int64  \n",
            " 3   trtbps    303 non-null    int64  \n",
            " 4   chol      303 non-null    int64  \n",
            " 5   fbs       303 non-null    int64  \n",
            " 6   restecg   303 non-null    int64  \n",
            " 7   thalachh  303 non-null    int64  \n",
            " 8   exng      303 non-null    int64  \n",
            " 9   oldpeak   303 non-null    float64\n",
            " 10  slp       303 non-null    int64  \n",
            " 11  caa       303 non-null    int64  \n",
            " 12  thall     303 non-null    int64  \n",
            " 13  output    303 non-null    int64  \n",
            "dtypes: float64(1), int64(13)\n",
            "memory usage: 33.3 KB\n"
          ]
        }
      ]
    },
    {
      "cell_type": "markdown",
      "source": [
        "Vamos renomear as colunas para que fiquem com o nome completo de cada feature, assim será possível interpretar melhor cada coluna"
      ],
      "metadata": {
        "id": "G7wk2XUrv1xz"
      }
    },
    {
      "cell_type": "code",
      "source": [
        "df.rename(columns={\n",
        "    \"cp\": \"chest_pain\",\n",
        "    \"trtbps\": \"resting_blood_pressure\",\n",
        "    \"chol\": \"cholesterol\",\n",
        "    \"fbs\": \"fasting_blood_sugar\",\n",
        "    \"restecg\": \"resting_electrocardiographic\",\n",
        "    \"thalachh\": \"maximum_heart_rate\",\n",
        "    \"exng\": \"exercise_induced_angina\",\n",
        "    \"slp\": \"slope\",\n",
        "    \"caa\": \"number_vessels\",\n",
        "})"
      ],
      "metadata": {
        "colab": {
          "base_uri": "https://localhost:8080/",
          "height": 487
        },
        "id": "q6Jb14D03aMQ",
        "outputId": "e10b91c3-1aeb-4c92-9434-8bef61042a6d"
      },
      "execution_count": null,
      "outputs": [
        {
          "output_type": "execute_result",
          "data": {
            "text/plain": [
              "     age  sex  chest_pain  resting_blood_pressure  cholesterol  \\\n",
              "0     63    1           3                     145          233   \n",
              "1     37    1           2                     130          250   \n",
              "2     41    0           1                     130          204   \n",
              "3     56    1           1                     120          236   \n",
              "4     57    0           0                     120          354   \n",
              "..   ...  ...         ...                     ...          ...   \n",
              "298   57    0           0                     140          241   \n",
              "299   45    1           3                     110          264   \n",
              "300   68    1           0                     144          193   \n",
              "301   57    1           0                     130          131   \n",
              "302   57    0           1                     130          236   \n",
              "\n",
              "     fasting_blood_sugar  resting_electrocardiographic  maximum_heart_rate  \\\n",
              "0                      1                             0                 150   \n",
              "1                      0                             1                 187   \n",
              "2                      0                             0                 172   \n",
              "3                      0                             1                 178   \n",
              "4                      0                             1                 163   \n",
              "..                   ...                           ...                 ...   \n",
              "298                    0                             1                 123   \n",
              "299                    0                             1                 132   \n",
              "300                    1                             1                 141   \n",
              "301                    0                             1                 115   \n",
              "302                    0                             0                 174   \n",
              "\n",
              "     exercise_induced_angina  oldpeak  slope  number_vessels  thall  output  \n",
              "0                          0      2.3      0               0      1       1  \n",
              "1                          0      3.5      0               0      2       1  \n",
              "2                          0      1.4      2               0      2       1  \n",
              "3                          0      0.8      2               0      2       1  \n",
              "4                          1      0.6      2               0      2       1  \n",
              "..                       ...      ...    ...             ...    ...     ...  \n",
              "298                        1      0.2      1               0      3       0  \n",
              "299                        0      1.2      1               0      3       0  \n",
              "300                        0      3.4      1               2      3       0  \n",
              "301                        1      1.2      1               1      3       0  \n",
              "302                        0      0.0      1               1      2       0  \n",
              "\n",
              "[303 rows x 14 columns]"
            ],
            "text/html": [
              "\n",
              "  <div id=\"df-706969d3-4e9d-4ba0-91be-c69e372ad666\">\n",
              "    <div class=\"colab-df-container\">\n",
              "      <div>\n",
              "<style scoped>\n",
              "    .dataframe tbody tr th:only-of-type {\n",
              "        vertical-align: middle;\n",
              "    }\n",
              "\n",
              "    .dataframe tbody tr th {\n",
              "        vertical-align: top;\n",
              "    }\n",
              "\n",
              "    .dataframe thead th {\n",
              "        text-align: right;\n",
              "    }\n",
              "</style>\n",
              "<table border=\"1\" class=\"dataframe\">\n",
              "  <thead>\n",
              "    <tr style=\"text-align: right;\">\n",
              "      <th></th>\n",
              "      <th>age</th>\n",
              "      <th>sex</th>\n",
              "      <th>chest_pain</th>\n",
              "      <th>resting_blood_pressure</th>\n",
              "      <th>cholesterol</th>\n",
              "      <th>fasting_blood_sugar</th>\n",
              "      <th>resting_electrocardiographic</th>\n",
              "      <th>maximum_heart_rate</th>\n",
              "      <th>exercise_induced_angina</th>\n",
              "      <th>oldpeak</th>\n",
              "      <th>slope</th>\n",
              "      <th>number_vessels</th>\n",
              "      <th>thall</th>\n",
              "      <th>output</th>\n",
              "    </tr>\n",
              "  </thead>\n",
              "  <tbody>\n",
              "    <tr>\n",
              "      <th>0</th>\n",
              "      <td>63</td>\n",
              "      <td>1</td>\n",
              "      <td>3</td>\n",
              "      <td>145</td>\n",
              "      <td>233</td>\n",
              "      <td>1</td>\n",
              "      <td>0</td>\n",
              "      <td>150</td>\n",
              "      <td>0</td>\n",
              "      <td>2.3</td>\n",
              "      <td>0</td>\n",
              "      <td>0</td>\n",
              "      <td>1</td>\n",
              "      <td>1</td>\n",
              "    </tr>\n",
              "    <tr>\n",
              "      <th>1</th>\n",
              "      <td>37</td>\n",
              "      <td>1</td>\n",
              "      <td>2</td>\n",
              "      <td>130</td>\n",
              "      <td>250</td>\n",
              "      <td>0</td>\n",
              "      <td>1</td>\n",
              "      <td>187</td>\n",
              "      <td>0</td>\n",
              "      <td>3.5</td>\n",
              "      <td>0</td>\n",
              "      <td>0</td>\n",
              "      <td>2</td>\n",
              "      <td>1</td>\n",
              "    </tr>\n",
              "    <tr>\n",
              "      <th>2</th>\n",
              "      <td>41</td>\n",
              "      <td>0</td>\n",
              "      <td>1</td>\n",
              "      <td>130</td>\n",
              "      <td>204</td>\n",
              "      <td>0</td>\n",
              "      <td>0</td>\n",
              "      <td>172</td>\n",
              "      <td>0</td>\n",
              "      <td>1.4</td>\n",
              "      <td>2</td>\n",
              "      <td>0</td>\n",
              "      <td>2</td>\n",
              "      <td>1</td>\n",
              "    </tr>\n",
              "    <tr>\n",
              "      <th>3</th>\n",
              "      <td>56</td>\n",
              "      <td>1</td>\n",
              "      <td>1</td>\n",
              "      <td>120</td>\n",
              "      <td>236</td>\n",
              "      <td>0</td>\n",
              "      <td>1</td>\n",
              "      <td>178</td>\n",
              "      <td>0</td>\n",
              "      <td>0.8</td>\n",
              "      <td>2</td>\n",
              "      <td>0</td>\n",
              "      <td>2</td>\n",
              "      <td>1</td>\n",
              "    </tr>\n",
              "    <tr>\n",
              "      <th>4</th>\n",
              "      <td>57</td>\n",
              "      <td>0</td>\n",
              "      <td>0</td>\n",
              "      <td>120</td>\n",
              "      <td>354</td>\n",
              "      <td>0</td>\n",
              "      <td>1</td>\n",
              "      <td>163</td>\n",
              "      <td>1</td>\n",
              "      <td>0.6</td>\n",
              "      <td>2</td>\n",
              "      <td>0</td>\n",
              "      <td>2</td>\n",
              "      <td>1</td>\n",
              "    </tr>\n",
              "    <tr>\n",
              "      <th>...</th>\n",
              "      <td>...</td>\n",
              "      <td>...</td>\n",
              "      <td>...</td>\n",
              "      <td>...</td>\n",
              "      <td>...</td>\n",
              "      <td>...</td>\n",
              "      <td>...</td>\n",
              "      <td>...</td>\n",
              "      <td>...</td>\n",
              "      <td>...</td>\n",
              "      <td>...</td>\n",
              "      <td>...</td>\n",
              "      <td>...</td>\n",
              "      <td>...</td>\n",
              "    </tr>\n",
              "    <tr>\n",
              "      <th>298</th>\n",
              "      <td>57</td>\n",
              "      <td>0</td>\n",
              "      <td>0</td>\n",
              "      <td>140</td>\n",
              "      <td>241</td>\n",
              "      <td>0</td>\n",
              "      <td>1</td>\n",
              "      <td>123</td>\n",
              "      <td>1</td>\n",
              "      <td>0.2</td>\n",
              "      <td>1</td>\n",
              "      <td>0</td>\n",
              "      <td>3</td>\n",
              "      <td>0</td>\n",
              "    </tr>\n",
              "    <tr>\n",
              "      <th>299</th>\n",
              "      <td>45</td>\n",
              "      <td>1</td>\n",
              "      <td>3</td>\n",
              "      <td>110</td>\n",
              "      <td>264</td>\n",
              "      <td>0</td>\n",
              "      <td>1</td>\n",
              "      <td>132</td>\n",
              "      <td>0</td>\n",
              "      <td>1.2</td>\n",
              "      <td>1</td>\n",
              "      <td>0</td>\n",
              "      <td>3</td>\n",
              "      <td>0</td>\n",
              "    </tr>\n",
              "    <tr>\n",
              "      <th>300</th>\n",
              "      <td>68</td>\n",
              "      <td>1</td>\n",
              "      <td>0</td>\n",
              "      <td>144</td>\n",
              "      <td>193</td>\n",
              "      <td>1</td>\n",
              "      <td>1</td>\n",
              "      <td>141</td>\n",
              "      <td>0</td>\n",
              "      <td>3.4</td>\n",
              "      <td>1</td>\n",
              "      <td>2</td>\n",
              "      <td>3</td>\n",
              "      <td>0</td>\n",
              "    </tr>\n",
              "    <tr>\n",
              "      <th>301</th>\n",
              "      <td>57</td>\n",
              "      <td>1</td>\n",
              "      <td>0</td>\n",
              "      <td>130</td>\n",
              "      <td>131</td>\n",
              "      <td>0</td>\n",
              "      <td>1</td>\n",
              "      <td>115</td>\n",
              "      <td>1</td>\n",
              "      <td>1.2</td>\n",
              "      <td>1</td>\n",
              "      <td>1</td>\n",
              "      <td>3</td>\n",
              "      <td>0</td>\n",
              "    </tr>\n",
              "    <tr>\n",
              "      <th>302</th>\n",
              "      <td>57</td>\n",
              "      <td>0</td>\n",
              "      <td>1</td>\n",
              "      <td>130</td>\n",
              "      <td>236</td>\n",
              "      <td>0</td>\n",
              "      <td>0</td>\n",
              "      <td>174</td>\n",
              "      <td>0</td>\n",
              "      <td>0.0</td>\n",
              "      <td>1</td>\n",
              "      <td>1</td>\n",
              "      <td>2</td>\n",
              "      <td>0</td>\n",
              "    </tr>\n",
              "  </tbody>\n",
              "</table>\n",
              "<p>303 rows × 14 columns</p>\n",
              "</div>\n",
              "      <button class=\"colab-df-convert\" onclick=\"convertToInteractive('df-706969d3-4e9d-4ba0-91be-c69e372ad666')\"\n",
              "              title=\"Convert this dataframe to an interactive table.\"\n",
              "              style=\"display:none;\">\n",
              "        \n",
              "  <svg xmlns=\"http://www.w3.org/2000/svg\" height=\"24px\"viewBox=\"0 0 24 24\"\n",
              "       width=\"24px\">\n",
              "    <path d=\"M0 0h24v24H0V0z\" fill=\"none\"/>\n",
              "    <path d=\"M18.56 5.44l.94 2.06.94-2.06 2.06-.94-2.06-.94-.94-2.06-.94 2.06-2.06.94zm-11 1L8.5 8.5l.94-2.06 2.06-.94-2.06-.94L8.5 2.5l-.94 2.06-2.06.94zm10 10l.94 2.06.94-2.06 2.06-.94-2.06-.94-.94-2.06-.94 2.06-2.06.94z\"/><path d=\"M17.41 7.96l-1.37-1.37c-.4-.4-.92-.59-1.43-.59-.52 0-1.04.2-1.43.59L10.3 9.45l-7.72 7.72c-.78.78-.78 2.05 0 2.83L4 21.41c.39.39.9.59 1.41.59.51 0 1.02-.2 1.41-.59l7.78-7.78 2.81-2.81c.8-.78.8-2.07 0-2.86zM5.41 20L4 18.59l7.72-7.72 1.47 1.35L5.41 20z\"/>\n",
              "  </svg>\n",
              "      </button>\n",
              "      \n",
              "  <style>\n",
              "    .colab-df-container {\n",
              "      display:flex;\n",
              "      flex-wrap:wrap;\n",
              "      gap: 12px;\n",
              "    }\n",
              "\n",
              "    .colab-df-convert {\n",
              "      background-color: #E8F0FE;\n",
              "      border: none;\n",
              "      border-radius: 50%;\n",
              "      cursor: pointer;\n",
              "      display: none;\n",
              "      fill: #1967D2;\n",
              "      height: 32px;\n",
              "      padding: 0 0 0 0;\n",
              "      width: 32px;\n",
              "    }\n",
              "\n",
              "    .colab-df-convert:hover {\n",
              "      background-color: #E2EBFA;\n",
              "      box-shadow: 0px 1px 2px rgba(60, 64, 67, 0.3), 0px 1px 3px 1px rgba(60, 64, 67, 0.15);\n",
              "      fill: #174EA6;\n",
              "    }\n",
              "\n",
              "    [theme=dark] .colab-df-convert {\n",
              "      background-color: #3B4455;\n",
              "      fill: #D2E3FC;\n",
              "    }\n",
              "\n",
              "    [theme=dark] .colab-df-convert:hover {\n",
              "      background-color: #434B5C;\n",
              "      box-shadow: 0px 1px 3px 1px rgba(0, 0, 0, 0.15);\n",
              "      filter: drop-shadow(0px 1px 2px rgba(0, 0, 0, 0.3));\n",
              "      fill: #FFFFFF;\n",
              "    }\n",
              "  </style>\n",
              "\n",
              "      <script>\n",
              "        const buttonEl =\n",
              "          document.querySelector('#df-706969d3-4e9d-4ba0-91be-c69e372ad666 button.colab-df-convert');\n",
              "        buttonEl.style.display =\n",
              "          google.colab.kernel.accessAllowed ? 'block' : 'none';\n",
              "\n",
              "        async function convertToInteractive(key) {\n",
              "          const element = document.querySelector('#df-706969d3-4e9d-4ba0-91be-c69e372ad666');\n",
              "          const dataTable =\n",
              "            await google.colab.kernel.invokeFunction('convertToInteractive',\n",
              "                                                     [key], {});\n",
              "          if (!dataTable) return;\n",
              "\n",
              "          const docLinkHtml = 'Like what you see? Visit the ' +\n",
              "            '<a target=\"_blank\" href=https://colab.research.google.com/notebooks/data_table.ipynb>data table notebook</a>'\n",
              "            + ' to learn more about interactive tables.';\n",
              "          element.innerHTML = '';\n",
              "          dataTable['output_type'] = 'display_data';\n",
              "          await google.colab.output.renderOutput(dataTable, element);\n",
              "          const docLink = document.createElement('div');\n",
              "          docLink.innerHTML = docLinkHtml;\n",
              "          element.appendChild(docLink);\n",
              "        }\n",
              "      </script>\n",
              "    </div>\n",
              "  </div>\n",
              "  "
            ]
          },
          "metadata": {},
          "execution_count": 224
        }
      ]
    },
    {
      "cell_type": "markdown",
      "source": [
        "Plotando os valores numéricos para verificar a presença de outliers, algo que não está muito presente\n"
      ],
      "metadata": {
        "id": "g1aJdrsCwOZc"
      }
    },
    {
      "cell_type": "code",
      "source": [
        "fig, (ax1, ax2, ax3, ax4) = plt.subplots(1, 4, figsize = (15, 5))\n",
        "\n",
        "ax1.boxplot(df[\"age\"])\n",
        "ax1.set_title(\"age\")\n",
        "\n",
        "ax2.boxplot(df[\"trtbps\"])\n",
        "ax2.set_title(\"resting_blood_pressure\")\n",
        "\n",
        "ax3.boxplot(df[\"thalachh\"])\n",
        "ax3.set_title(\"thalach\")\n",
        "\n",
        "ax4.boxplot(df[\"oldpeak\"])\n",
        "ax4.set_title(\"oldpeak\")\n",
        "\n",
        "plt.show()"
      ],
      "metadata": {
        "colab": {
          "base_uri": "https://localhost:8080/",
          "height": 336
        },
        "id": "3IB8gEOyV4WR",
        "outputId": "a910be3d-76d4-4a84-e702-9ee101ef0ddb"
      },
      "execution_count": null,
      "outputs": [
        {
          "output_type": "display_data",
          "data": {
            "text/plain": [
              "<Figure size 1080x360 with 4 Axes>"
            ],
            "image/png": "[encoded data removed]"
          },
          "metadata": {
            "needs_background": "light"
          }
        }
      ]
    },
    {
      "cell_type": "markdown",
      "source": [
        "### Limpeza do dataset"
      ],
      "metadata": {
        "id": "9O2sNV-owbGq"
      }
    },
    {
      "cell_type": "markdown",
      "source": [
        "Verificando a quantidade de dados duplicados e removendo-os"
      ],
      "metadata": {
        "id": "naG0jSVAvxmM"
      }
    },
    {
      "cell_type": "code",
      "source": [
        "df.duplicated().sum()"
      ],
      "metadata": {
        "colab": {
          "base_uri": "https://localhost:8080/"
        },
        "id": "Pt3yma6W5rvH",
        "outputId": "4d2604ae-c605-4103-89e7-25ca00c4001c"
      },
      "execution_count": null,
      "outputs": [
        {
          "output_type": "execute_result",
          "data": {
            "text/plain": [
              "1"
            ]
          },
          "metadata": {},
          "execution_count": 226
        }
      ]
    },
    {
      "cell_type": "code",
      "source": [
        "df.drop_duplicates(inplace = True)"
      ],
      "metadata": {
        "id": "VQrz6Wej5zLm"
      },
      "execution_count": null,
      "outputs": []
    },
    {
      "cell_type": "markdown",
      "source": [
        "Agora ocorre a análise se existem valores nulos no dataset"
      ],
      "metadata": {
        "id": "5WkV_RsowEpD"
      }
    },
    {
      "cell_type": "code",
      "source": [
        "for column in df.columns:\n",
        "    miss_count = df[column].isnull().sum()\n",
        "    print(f'{column}: {miss_count :.1%}')"
      ],
      "metadata": {
        "colab": {
          "base_uri": "https://localhost:8080/"
        },
        "id": "IXjdQcpM75d9",
        "outputId": "54b104c9-ac84-41a7-9843-9d8117880288"
      },
      "execution_count": null,
      "outputs": [
        {
          "output_type": "stream",
          "name": "stdout",
          "text": [
            "age: 0.0%\n",
            "sex: 0.0%\n",
            "cp: 0.0%\n",
            "trtbps: 0.0%\n",
            "chol: 0.0%\n",
            "fbs: 0.0%\n",
            "restecg: 0.0%\n",
            "thalachh: 0.0%\n",
            "exng: 0.0%\n",
            "oldpeak: 0.0%\n",
            "slp: 0.0%\n",
            "caa: 0.0%\n",
            "thall: 0.0%\n",
            "output: 0.0%\n"
          ]
        }
      ]
    },
    {
      "cell_type": "markdown",
      "source": [
        "Eliminando colunas com menor relevância"
      ],
      "metadata": {
        "id": "SnvjVcVcTmyA"
      }
    },
    {
      "cell_type": "code",
      "source": [
        "#df = df.drop('age', axis=1)\n",
        "#df = df.drop('sex', axis=1)\n",
        "#df = df.drop('cp', axis=1)\n",
        "#df = df.drop('trtbps', axis=1)\n",
        "#df = df.drop('chol', axis=1)\n",
        "#df = df.drop('restecg', axis=1)\n",
        "#df = df.drop('thalachh', axis=1)\n",
        "#df = df.drop('exng', axis=1)\n",
        "#df = df.drop('slp', axis=1)\n",
        "#df = df.drop('caa', axis=1)\n",
        "#df = df.drop('oldpeak', axis=1)\n",
        "#df = df.drop('thall', axis=1)"
      ],
      "metadata": {
        "id": "FlH5GhWaTqGC"
      },
      "execution_count": null,
      "outputs": []
    },
    {
      "cell_type": "markdown",
      "source": [
        "### Divisão dos folds"
      ],
      "metadata": {
        "id": "RuIsLx65623V"
      }
    },
    {
      "cell_type": "markdown",
      "source": [
        "A partir desse código fazemos a divisão em k-folds, basicamente criamos 2 arrays, um array recebe k partições com a classe predita positiva e o outro recebe k partições da parte negativa. Por fim, criamos um array final que é o merge da partição positiva com a negativa, com tamanho de k folds"
      ],
      "metadata": {
        "id": "Y-I0qX07xGG9"
      }
    },
    {
      "cell_type": "code",
      "source": [
        "def get_kfolds(k, data):\n",
        "  data_negative = df.loc[df['output'] == 0]\n",
        "  data_positive = df.loc[df['output'] == 1]\n",
        "\n",
        "  fold_negative = np.array_split(data_negative, k)\n",
        "  fold_positive = np.array_split(data_positive, k)\n",
        "\n",
        "  fold_final = []\n",
        "  for i in range(0, k):\n",
        "    merge = [fold_negative[i], fold_positive[i]]\n",
        "    temp = pd.concat(merge)\n",
        "\n",
        "    fold_final.append(temp)\n",
        "  return fold_final"
      ],
      "metadata": {
        "id": "bMwJWhlsvLjj"
      },
      "execution_count": null,
      "outputs": []
    },
    {
      "cell_type": "markdown",
      "source": [
        "Neste trecho ocorre a divisão dos k-folds, onde k-1 folds são usados para treinamento e 1 fold para testes. Esse processo é repetido k vezes, onde o fold de teste é variado a cada iteração"
      ],
      "metadata": {
        "id": "X7O6w5jsyVVe"
      }
    },
    {
      "cell_type": "code",
      "source": [
        "def kfold(k, data, model, shuffle=False): #k-fold cross validation estratificado\n",
        "  if shuffle == True:\n",
        "    data.sample(frac=1).reset_index(drop=True)\n",
        "\n",
        "  folds = get_kfolds(k, data) #folds estratificados\n",
        "\n",
        "  accuracies = []\n",
        "  recalls = []\n",
        "  precisions = []\n",
        "  fscores = []\n",
        "  result = []\n",
        "\n",
        "  for i in range(k):\n",
        "    testing_fold = folds[i]\n",
        "\n",
        "    training_folds = []\n",
        "    for j in range(k):\n",
        "      if j != i:\n",
        "        training_folds.append(folds[j])\n",
        "\n",
        "    X_train = training_folds[i if i != j else i - 1].drop(['output'], axis=1)\n",
        "    y_train = training_folds[i if i != j else i - 1]['output'].values\n",
        "\n",
        "    X_test = testing_fold.drop(['output'], axis=1)\n",
        "    y_test = testing_fold['output'].values\n",
        "\n",
        "    X_train, X_test = normalize(X_train, X_test)\n",
        "\n",
        "    model.fit(X_train, y_train)\n",
        "    predict = model.predict(X_test)\n",
        "\n",
        "    results = confusion_matrix(predict, y_test)\n",
        "    accuracies.append(results[0])\n",
        "    recalls.append(results[1])\n",
        "    precisions.append(results[2])\n",
        "    fscores.append(results[3])\n",
        "\n",
        "  print(f\"Standard Deviation: {np.std(accuracies)}\")\n",
        "  print(f\"Accuracy: {sum(accuracies) / len(accuracies)}\")\n",
        "  print(f\"Recall: {sum(recalls) / len(recalls)}\")\n",
        "  print(f\"Precision: {sum(precisions) / len(precisions)}\")\n",
        "  print(f\"F-score: {sum(fscores) / len(fscores)}\")\n",
        "\n",
        "  print_acc_bar_chart(k, accuracies, \"Acuracias por iterações\")\n",
        "\n",
        "  return accuracies"
      ],
      "metadata": {
        "id": "5PKydSaNl9Xx"
      },
      "execution_count": null,
      "outputs": []
    },
    {
      "cell_type": "markdown",
      "source": [
        "Optamos por normalizar os valores por meio da normalização min_max"
      ],
      "metadata": {
        "id": "t0PSwJ_My7Fo"
      }
    },
    {
      "cell_type": "code",
      "source": [
        "def normalize(data_train, data_test):\n",
        "  column = [\"age\", \"trtbps\", \"chol\", \"thalachh\", \"oldpeak\"]\n",
        "\n",
        "  for feature in column:\n",
        "    max = data_train.max(axis=0)[feature]\n",
        "    min = data_train.min(axis=0)[feature]\n",
        "    for index, row in data_train.iterrows():\n",
        "      data_train.loc[index, [feature]] = (row[feature] - min) / (max - min)\n",
        "    for index, row in data_test.iterrows():\n",
        "      data_test.loc[index, [feature]] = (row[feature] - min) / (max - min)\n",
        "\n",
        "  return data_train, data_test"
      ],
      "metadata": {
        "id": "392LmLd8y_vD"
      },
      "execution_count": null,
      "outputs": []
    },
    {
      "cell_type": "markdown",
      "source": [
        "Esta é a implementação da matriz de confusão, foi utilizado o dicionário para facilitar a interpretabilidade. Ela recebe a predição do modelo e a saída real, a partir disso alimentamos a matriz e conseguimos extrair as métricas solicitadas."
      ],
      "metadata": {
        "id": "zS64tJErxs5D"
      }
    },
    {
      "cell_type": "code",
      "source": [
        "def confusion_matrix(predict, real):\n",
        "  matrix = {\"TP\": 0, \"FP\": 0, \"TN\": 0, \"FN\": 0}\n",
        "  for i in range(len(real)):\n",
        "    if(real[i] == 1):\n",
        "      if(predict[i] == 1):\n",
        "        matrix['TP'] += 1\n",
        "      else:\n",
        "        matrix['FP'] += 1\n",
        "    else:\n",
        "      if(predict[i] == 1):\n",
        "        matrix['FN'] += 1\n",
        "      else:\n",
        "        matrix['TN'] += 1\n",
        "\n",
        "  accuracy = (matrix['TP'] + matrix['TN']) / (matrix['TP'] + matrix['TN'] + matrix['FP'] + matrix['FN'])\n",
        "  recall = matrix['TP'] / (matrix['TP'] + matrix['FN'])\n",
        "  precision = matrix['TP'] / (matrix['TP'] + matrix['FP'])\n",
        "  fscore = 2 * ((precision * recall) / (precision + recall))\n",
        "\n",
        "  return [accuracy, recall, precision, fscore]\n"
      ],
      "metadata": {
        "id": "bH6NqWvtY6sy"
      },
      "execution_count": null,
      "outputs": []
    },
    {
      "cell_type": "code",
      "source": [
        "def print_acc_bar_chart(k, accuracies, title):\n",
        "  k_list = [i for i in range(1, k+1)]\n",
        "  fig = plt.figure(figsize = (10, 5))\n",
        "  accuracies_formated = [ '%.4f' % acc for acc in accuracies]\n",
        "  bar_plot = plt.bar(k_list, accuracies, color='brown')\n",
        "  plt.bar_label(bar_plot, labels=accuracies_formated, label_type='center')\n",
        "\n",
        "  plt.xlabel(\"Numero de iteração\")\n",
        "  plt.ylabel(\"Acuracia\")\n",
        "  plt.title(title)\n",
        "  plt.show()"
      ],
      "metadata": {
        "id": "IhfNFtE-3Mx1"
      },
      "execution_count": null,
      "outputs": []
    },
    {
      "cell_type": "code",
      "source": [
        "def print_model_bar_chart(k, accuracies, title):\n",
        "  fig = plt.figure(figsize = (20, 7))\n",
        "  bar_plot = plt.bar(k, accuracies, color='brown')\n",
        "  accuracies_formated = [ '%.4f' % acc for acc in accuracies]\n",
        "  plt.bar_label(bar_plot, labels=accuracies_formated, label_type='center')\n",
        "\n",
        "  plt.xlabel(\"Modelos\")\n",
        "  plt.ylabel(\"Acuracia\")\n",
        "  plt.title(title)\n",
        "  plt.show()"
      ],
      "metadata": {
        "id": "kbsWCC0eBRKu"
      },
      "execution_count": null,
      "outputs": []
    },
    {
      "cell_type": "markdown",
      "source": [
        "Na célula abaixo ocorre o instanciamento dos algoritmos de Machine Learning e a chamada para o método kfold, onde ocorre a divisão dos folds, a normalização e o treinamento do modelo"
      ],
      "metadata": {
        "id": "Sx_t1SYft6nG"
      }
    },
    {
      "cell_type": "code",
      "source": [
        "shuffle = True\n",
        "results = []\n",
        "models_name = []\n",
        "\n",
        "knn = KNeighborsClassifier()\n",
        "print(knn)\n",
        "knn_accs = kfold(5, df, knn, shuffle)\n",
        "knn_mean = np.mean(knn_accs)\n",
        "results.append(knn_mean)\n",
        "models_name += ['KNeighborsClassifier']\n",
        "\n",
        "print(f'==================================================================')\n",
        "dt = DecisionTreeClassifier()\n",
        "print(dt)\n",
        "dt_accs = kfold(5, df, dt, shuffle)\n",
        "dt_mean = np.mean(dt_accs)\n",
        "results.append(dt_mean)\n",
        "models_name += ['DecisionTreeClassifier']\n",
        "\n",
        "print(f'==================================================================')\n",
        "abc = AdaBoostClassifier(n_estimators=100)\n",
        "print(abc)\n",
        "abc_accs = kfold(5, df, abc, shuffle)\n",
        "abc_mean = np.mean(abc_accs)\n",
        "results.append(abc_mean)\n",
        "models_name += ['AdaBoostClassifier']\n",
        "\n",
        "print(f'==================================================================')\n",
        "rfc = RandomForestClassifier(n_estimators=10)\n",
        "print(rfc)\n",
        "rfc_accs = kfold(5, df, rfc, shuffle)\n",
        "rfc_mean = np.mean(rfc_accs)\n",
        "results.append(rfc_mean)\n",
        "models_name += ['RandomForestClassifier']\n",
        "\n",
        "print(f'==================================================================')\n",
        "clf = LogisticRegression()\n",
        "print(clf)\n",
        "clf_accs = kfold(5, df, clf, shuffle)\n",
        "clf_mean = np.mean(clf_accs)\n",
        "results.append(clf_mean)\n",
        "models_name += ['LogisticRegression']\n",
        "\n",
        "print(f'==================================================================')\n",
        "mlp = MLPClassifier(solver='lbfgs', alpha=1e-5, hidden_layer_sizes=(10, 2), random_state=1)\n",
        "print(mlp)\n",
        "mlp_accs = kfold(5, df, mlp, shuffle)\n",
        "mlp_mean = np.mean(mlp_accs)\n",
        "results.append(mlp_mean)\n",
        "models_name += ['MLPClassifier']\n",
        "\n",
        "print_model_bar_chart(models_name, results, 'Acuracia média por modelo')\n"
      ],
      "metadata": {
        "colab": {
          "base_uri": "https://localhost:8080/",
          "height": 1000
        },
        "id": "GADwD6Vt9tYc",
        "outputId": "ab4300ac-89eb-49d7-95ca-3bcba0fc496f"
      },
      "execution_count": null,
      "outputs": [
        {
          "output_type": "stream",
          "name": "stdout",
          "text": [
            "KNeighborsClassifier()\n",
            "Standard Deviation: 0.05369018022844815\n",
            "Accuracy: 0.8105714550338057\n",
            "Recall: 0.7946468847176952\n",
            "Precision: 0.8840909090909091\n",
            "F-score: 0.8346852127063125\n"
          ]
        },
        {
          "output_type": "display_data",
          "data": {
            "text/plain": [
              "<Figure size 720x360 with 1 Axes>"
            ],
            "image/png": "[encoded data removed]"
          },
          "metadata": {
            "needs_background": "light"
          }
        },
        {
          "output_type": "stream",
          "name": "stdout",
          "text": [
            "==================================================================\n",
            "DecisionTreeClassifier()\n",
            "Standard Deviation: 0.09104329221329287\n",
            "Accuracy: 0.6714346577753079\n",
            "Recall: 0.6720456031382807\n",
            "Precision: 0.7863636363636364\n",
            "F-score: 0.7216253590043612\n"
          ]
        },
        {
          "output_type": "display_data",
          "data": {
            "text/plain": [
              "<Figure size 720x360 with 1 Axes>"
            ],
            "image/png": "[encoded data removed]"
          },
          "metadata": {
            "needs_background": "light"
          }
        },
        {
          "output_type": "stream",
          "name": "stdout",
          "text": [
            "==================================================================\n",
            "AdaBoostClassifier(n_estimators=100)\n",
            "Standard Deviation: 0.029678426267665512\n",
            "Accuracy: 0.7647281652310827\n",
            "Recall: 0.7764720942140297\n",
            "Precision: 0.8053030303030303\n",
            "F-score: 0.7874245915024478\n"
          ]
        },
        {
          "output_type": "display_data",
          "data": {
            "text/plain": [
              "<Figure size 720x360 with 1 Axes>"
            ],
            "image/png": "[encoded data removed]"
          },
          "metadata": {
            "needs_background": "light"
          }
        },
        {
          "output_type": "stream",
          "name": "stdout",
          "text": [
            "==================================================================\n",
            "RandomForestClassifier(n_estimators=10)\n",
            "Standard Deviation: 0.030593570881957008\n",
            "Accuracy: 0.7646170232471983\n",
            "Recall: 0.8258280013563661\n",
            "Precision: 0.7196969696969696\n",
            "F-score: 0.7681076483810217\n"
          ]
        },
        {
          "output_type": "display_data",
          "data": {
            "text/plain": [
              "<Figure size 720x360 with 1 Axes>"
            ],
            "image/png": "[encoded data removed]"
          },
          "metadata": {
            "needs_background": "light"
          }
        },
        {
          "output_type": "stream",
          "name": "stdout",
          "text": [
            "==================================================================\n",
            "LogisticRegression()\n",
            "Standard Deviation: 0.05650088388217554\n",
            "Accuracy: 0.8007372418264331\n",
            "Recall: 0.8080895806702258\n",
            "Precision: 0.8356060606060607\n",
            "F-score: 0.8196535934977455\n"
          ]
        },
        {
          "output_type": "display_data",
          "data": {
            "text/plain": [
              "<Figure size 720x360 with 1 Axes>"
            ],
            "image/png": "[encoded data removed]"
          },
          "metadata": {
            "needs_background": "light"
          }
        },
        {
          "output_type": "stream",
          "name": "stdout",
          "text": [
            "==================================================================\n",
            "MLPClassifier(alpha=1e-05, hidden_layer_sizes=(10, 2), random_state=1,\n",
            "              solver='lbfgs')\n",
            "Standard Deviation: 0.05018327613055408\n",
            "Accuracy: 0.7779503565805316\n",
            "Recall: 0.8337378750281974\n",
            "Precision: 0.7503787878787878\n",
            "F-score: 0.7830446229155139\n"
          ]
        },
        {
          "output_type": "display_data",
          "data": {
            "text/plain": [
              "<Figure size 720x360 with 1 Axes>"
            ],
            "image/png": "[encoded data removed]"
          },
          "metadata": {
            "needs_background": "light"
          }
        },
        {
          "output_type": "display_data",
          "data": {
            "text/plain": [
              "<Figure size 1440x504 with 1 Axes>"
            ],
            "image/png": "[encoded data removed]"
          },
          "metadata": {
            "needs_background": "light"
          }
        }
      ]
    }
  ]
}